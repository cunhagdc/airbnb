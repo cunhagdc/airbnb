{
  "nbformat": 4,
  "nbformat_minor": 0,
  "metadata": {
    "colab": {
      "provenance": [],
      "toc_visible": true
    },
    "kernelspec": {
      "name": "python3",
      "display_name": "Python 3"
    }
  },
  "cells": [
    {
      "cell_type": "markdown",
      "metadata": {
        "id": "kLI0gJtzDGuQ"
      },
      "source": [
        "# **Análise dos Dados da Violência no Rio de Janeiro**\n",
        "\n",
        "O **Rio de Janeiro** é conhecido mundialmente por suas belezas naturais e pelos encantadores movimentos culturais. No entanto, um dado notável sobre o estado do Rio de Janeiro é seu grande volume populacional, sendo o terceiro estado mais populoso, com **16.054.524 habitantes** em 2022, segundo o [IBGE](http://www.ispvisualizacao.rj.gov.br/index.html).\n",
        "\n",
        "Além das suas características atrativas, é importante ressaltar que o **Rio de Janeiro** também enfrenta desafios relacionados à **segurança pública**. A **violência** é uma preocupação constante na região, afetando a qualidade de vida de seus habitantes.\n",
        "\n",
        "Uma das boas iniciativas da Governo do Rio de Janeiro é disponibilizar dados sobre a violência pública. Por meio do portal [Instituto de Segurança Pública](http://www.ispdados.rj.gov.br/), é possível baixar uma grande quantidade de dados para desenvolver projetos e soluções de *Data Science*.\n",
        "\n",
        "<center><img alt=\"Analisando Airbnb\" width=\"10%\" src=\"https://upload.wikimedia.org/wikipedia/commons/7/74/Logo_governo_rj_2019.png\"></center>\n",
        "\n",
        "**Siga comigo neste notebook, onde iremos destacar análises interessantes sobre os dados públicos relacionados à violência no Rio de Janeiro. Aqui buscaremos compreender os padrões, tendências e fatores que contribuem para essa problemática.**"
      ]
    },
    {
      "cell_type": "markdown",
      "metadata": {
        "id": "0zxQHhIUDF_2"
      },
      "source": [
        "## **Obtenção dos Dados**\n",
        "\n",
        "\n",
        "Todos os dados utilizados aqui foram obtidos a partir do site do [Instituto de Segurança Pública](http://www.ispdados.rj.gov.br/).\n",
        "\n",
        "* O arquivo ``csv`` foi processado previamente para ser utilizado ao longo desta análise.\n",
        "  * [Clique aqui](https://raw.githubusercontent.com/carlosfab/dsnp2/master/datasets/violencia_rio.csv) para ter acesso."
      ]
    },
    {
      "cell_type": "markdown",
      "metadata": {
        "id": "7vh4at0l90nr"
      },
      "source": [
        "###  **Importando os dados**\n"
      ]
    },
    {
      "cell_type": "code",
      "metadata": {
        "id": "CYLNme_OCX_R"
      },
      "source": [
        "# importando os pacotes necessarios\n",
        "import pandas as pd\n",
        "import matplotlib.pyplot as plt\n",
        "import seaborn as sns\n",
        "\n",
        "%matplotlib inline"
      ],
      "execution_count": null,
      "outputs": []
    },
    {
      "cell_type": "code",
      "source": [
        "# importando o arquivo violencia_rio.csv para um DataFrame\n",
        "df = pd.read_csv(\"https://raw.githubusercontent.com/carlosfab/dsnp2/master/datasets/violencia_rio.csv\")"
      ],
      "metadata": {
        "id": "hrRYjZMJCQx9"
      },
      "execution_count": null,
      "outputs": []
    },
    {
      "cell_type": "markdown",
      "metadata": {
        "id": "qb5By2nIMS6m"
      },
      "source": [
        "## ▶️ **Análise Inicial dos Dados**\n",
        "\n",
        "Esta etapa tem por objetivo criar uma consciência situacional inicial e permitir um entendimento de como os dados estão estruturados.\n",
        "\n",
        "* Extrair e imprimir os nomes das colunas (`columns`)\n",
        "* Quais os tipos das variáveis (`dtypes`)\n",
        "* Visualizar as 5 primeiras linhas (`head`)\n",
        "* Identifique a porcentagem de valores ausentes das colunas\n"
      ]
    },
    {
      "cell_type": "markdown",
      "source": [
        "### **Tamanho do DataFrame**"
      ],
      "metadata": {
        "id": "gjhhmNp4CDoU"
      }
    },
    {
      "cell_type": "code",
      "source": [
        "# exibir quantidade de colunas e linhas totais do df\n",
        "df.shape[0]"
      ],
      "metadata": {
        "colab": {
          "base_uri": "https://localhost:8080/"
        },
        "id": "P1wK0OOpCKib",
        "outputId": "87f04cfe-0c32-4fdd-c0ae-8ffd9418286b"
      },
      "execution_count": null,
      "outputs": [
        {
          "output_type": "execute_result",
          "data": {
            "text/plain": [
              "344"
            ]
          },
          "metadata": {},
          "execution_count": 29
        }
      ]
    },
    {
      "cell_type": "markdown",
      "source": [
        "### **Extração de colunas**"
      ],
      "metadata": {
        "id": "BRPO0tp4C9mq"
      }
    },
    {
      "cell_type": "code",
      "source": [
        "# extrair e imprimir os nomes das colunas\n",
        "df.columns.values"
      ],
      "metadata": {
        "colab": {
          "base_uri": "https://localhost:8080/"
        },
        "id": "9O7aBdArDNC3",
        "outputId": "88118508-d31a-4a38-a401-0e3207341c4b"
      },
      "execution_count": null,
      "outputs": [
        {
          "output_type": "execute_result",
          "data": {
            "text/plain": [
              "array(['vano', 'mes', 'hom_doloso', 'lesao_corp_morte', 'latrocinio',\n",
              "       'hom_por_interv_policial', 'tentat_hom', 'lesao_corp_dolosa',\n",
              "       'estupro', 'hom_culposo', 'lesao_corp_culposa', 'roubo_comercio',\n",
              "       'roubo_residencia', 'roubo_veiculo', 'roubo_carga',\n",
              "       'roubo_transeunte', 'roubo_em_coletivo', 'roubo_banco',\n",
              "       'roubo_cx_eletronico', 'roubo_celular', 'roubo_conducao_saque',\n",
              "       'roubo_apos_saque', 'roubo_bicicleta', 'outros_roubos',\n",
              "       'total_roubos', 'furto_veiculos', 'furto_transeunte',\n",
              "       'furto_coletivo', 'furto_celular', 'furto_bicicleta',\n",
              "       'outros_furtos', 'total_furtos', 'sequestro', 'extorsao',\n",
              "       'sequestro_relampago', 'estelionato', 'apreensao_drogas',\n",
              "       'posse_drogas', 'trafico_drogas', 'apreensao_drogas_sem_autor',\n",
              "       'recuperacao_veiculos', 'apf', 'aaapai', 'cmp', 'cmba', 'ameaca',\n",
              "       'pessoas_desaparecidas', 'encontro_cadaver', 'encontro_ossada',\n",
              "       'pol_militares_mortos_serv', 'pol_civis_mortos_serv',\n",
              "       'indicador_letalidade', 'indicador_roubo_rua',\n",
              "       'indicador_roubo_veic', 'registro_ocorrencias', 'fase'],\n",
              "      dtype=object)"
            ]
          },
          "metadata": {},
          "execution_count": 30
        }
      ]
    },
    {
      "cell_type": "markdown",
      "source": [
        "### **Tipos de variáveis**"
      ],
      "metadata": {
        "id": "xt7qtxofDiFn"
      }
    },
    {
      "cell_type": "code",
      "source": [
        "# imprimir tipos de variáveis de todas colunas do df\n",
        "df.dtypes"
      ],
      "metadata": {
        "colab": {
          "base_uri": "https://localhost:8080/"
        },
        "id": "4HTZCQPxDnUN",
        "outputId": "35917533-9285-439f-dc60-6ce5d1c11b28"
      },
      "execution_count": null,
      "outputs": [
        {
          "output_type": "execute_result",
          "data": {
            "text/plain": [
              "vano                            int64\n",
              "mes                             int64\n",
              "hom_doloso                      int64\n",
              "lesao_corp_morte              float64\n",
              "latrocinio                      int64\n",
              "hom_por_interv_policial       float64\n",
              "tentat_hom                      int64\n",
              "lesao_corp_dolosa               int64\n",
              "estupro                       float64\n",
              "hom_culposo                   float64\n",
              "lesao_corp_culposa            float64\n",
              "roubo_comercio                  int64\n",
              "roubo_residencia                int64\n",
              "roubo_veiculo                   int64\n",
              "roubo_carga                     int64\n",
              "roubo_transeunte                int64\n",
              "roubo_em_coletivo               int64\n",
              "roubo_banco                     int64\n",
              "roubo_cx_eletronico           float64\n",
              "roubo_celular                 float64\n",
              "roubo_conducao_saque          float64\n",
              "roubo_apos_saque              float64\n",
              "roubo_bicicleta               float64\n",
              "outros_roubos                   int64\n",
              "total_roubos                    int64\n",
              "furto_veiculos                  int64\n",
              "furto_transeunte                int64\n",
              "furto_coletivo                float64\n",
              "furto_celular                 float64\n",
              "furto_bicicleta               float64\n",
              "outros_furtos                   int64\n",
              "total_furtos                    int64\n",
              "sequestro                     float64\n",
              "extorsao                      float64\n",
              "sequestro_relampago           float64\n",
              "estelionato                   float64\n",
              "apreensao_drogas                int64\n",
              "posse_drogas                  float64\n",
              "trafico_drogas                float64\n",
              "apreensao_drogas_sem_autor    float64\n",
              "recuperacao_veiculos            int64\n",
              "apf                           float64\n",
              "aaapai                        float64\n",
              "cmp                           float64\n",
              "cmba                          float64\n",
              "ameaca                        float64\n",
              "pessoas_desaparecidas         float64\n",
              "encontro_cadaver                int64\n",
              "encontro_ossada               float64\n",
              "pol_militares_mortos_serv     float64\n",
              "pol_civis_mortos_serv         float64\n",
              "indicador_letalidade            int64\n",
              "indicador_roubo_rua             int64\n",
              "indicador_roubo_veic            int64\n",
              "registro_ocorrencias          float64\n",
              "fase                            int64\n",
              "dtype: object"
            ]
          },
          "metadata": {},
          "execution_count": 31
        }
      ]
    },
    {
      "cell_type": "markdown",
      "source": [
        "### ***Dataset***"
      ],
      "metadata": {
        "id": "yAoJMIBpDshy"
      }
    },
    {
      "cell_type": "code",
      "source": [
        "# visualizar as 5 primeiras linhas do df\n",
        "df.head()"
      ],
      "metadata": {
        "colab": {
          "base_uri": "https://localhost:8080/",
          "height": 299
        },
        "id": "5ETiOqrqECBR",
        "outputId": "cf6c3e35-c4c7-4853-d867-01a655888df4"
      },
      "execution_count": null,
      "outputs": [
        {
          "output_type": "execute_result",
          "data": {
            "text/plain": [
              "   vano  mes  hom_doloso  lesao_corp_morte  latrocinio  \\\n",
              "0  1991    1         657               NaN          15   \n",
              "1  1991    2         732               NaN          17   \n",
              "2  1991    3         713               NaN          25   \n",
              "3  1991    4         634               NaN          20   \n",
              "4  1991    5         650               NaN          20   \n",
              "\n",
              "   hom_por_interv_policial  tentat_hom  lesao_corp_dolosa  estupro  \\\n",
              "0                      NaN         162               3051      NaN   \n",
              "1                      NaN         175               3421      NaN   \n",
              "2                      NaN         216               3613      NaN   \n",
              "3                      NaN         200               3211      NaN   \n",
              "4                      NaN         146               3051      NaN   \n",
              "\n",
              "   hom_culposo  ...  pessoas_desaparecidas  encontro_cadaver  encontro_ossada  \\\n",
              "0          NaN  ...                    NaN               217              NaN   \n",
              "1          NaN  ...                    NaN               209              NaN   \n",
              "2          NaN  ...                    NaN               188              NaN   \n",
              "3          NaN  ...                    NaN               140              NaN   \n",
              "4          NaN  ...                    NaN                78              NaN   \n",
              "\n",
              "   pol_militares_mortos_serv  pol_civis_mortos_serv  indicador_letalidade  \\\n",
              "0                        NaN                    NaN                   672   \n",
              "1                        NaN                    NaN                   749   \n",
              "2                        NaN                    NaN                   738   \n",
              "3                        NaN                    NaN                   654   \n",
              "4                        NaN                    NaN                   670   \n",
              "\n",
              "   indicador_roubo_rua  indicador_roubo_veic  registro_ocorrencias  fase  \n",
              "0                 1348                  1174                   NaN     3  \n",
              "1                 1395                  1097                   NaN     3  \n",
              "2                 1385                  1265                   NaN     3  \n",
              "3                 1540                  1415                   NaN     3  \n",
              "4                 1266                  1449                   NaN     3  \n",
              "\n",
              "[5 rows x 56 columns]"
            ],
            "text/html": [
              "\n",
              "  <div id=\"df-5394e5fc-dcdc-46f8-a864-f971b982d4b9\">\n",
              "    <div class=\"colab-df-container\">\n",
              "      <div>\n",
              "<style scoped>\n",
              "    .dataframe tbody tr th:only-of-type {\n",
              "        vertical-align: middle;\n",
              "    }\n",
              "\n",
              "    .dataframe tbody tr th {\n",
              "        vertical-align: top;\n",
              "    }\n",
              "\n",
              "    .dataframe thead th {\n",
              "        text-align: right;\n",
              "    }\n",
              "</style>\n",
              "<table border=\"1\" class=\"dataframe\">\n",
              "  <thead>\n",
              "    <tr style=\"text-align: right;\">\n",
              "      <th></th>\n",
              "      <th>vano</th>\n",
              "      <th>mes</th>\n",
              "      <th>hom_doloso</th>\n",
              "      <th>lesao_corp_morte</th>\n",
              "      <th>latrocinio</th>\n",
              "      <th>hom_por_interv_policial</th>\n",
              "      <th>tentat_hom</th>\n",
              "      <th>lesao_corp_dolosa</th>\n",
              "      <th>estupro</th>\n",
              "      <th>hom_culposo</th>\n",
              "      <th>...</th>\n",
              "      <th>pessoas_desaparecidas</th>\n",
              "      <th>encontro_cadaver</th>\n",
              "      <th>encontro_ossada</th>\n",
              "      <th>pol_militares_mortos_serv</th>\n",
              "      <th>pol_civis_mortos_serv</th>\n",
              "      <th>indicador_letalidade</th>\n",
              "      <th>indicador_roubo_rua</th>\n",
              "      <th>indicador_roubo_veic</th>\n",
              "      <th>registro_ocorrencias</th>\n",
              "      <th>fase</th>\n",
              "    </tr>\n",
              "  </thead>\n",
              "  <tbody>\n",
              "    <tr>\n",
              "      <th>0</th>\n",
              "      <td>1991</td>\n",
              "      <td>1</td>\n",
              "      <td>657</td>\n",
              "      <td>NaN</td>\n",
              "      <td>15</td>\n",
              "      <td>NaN</td>\n",
              "      <td>162</td>\n",
              "      <td>3051</td>\n",
              "      <td>NaN</td>\n",
              "      <td>NaN</td>\n",
              "      <td>...</td>\n",
              "      <td>NaN</td>\n",
              "      <td>217</td>\n",
              "      <td>NaN</td>\n",
              "      <td>NaN</td>\n",
              "      <td>NaN</td>\n",
              "      <td>672</td>\n",
              "      <td>1348</td>\n",
              "      <td>1174</td>\n",
              "      <td>NaN</td>\n",
              "      <td>3</td>\n",
              "    </tr>\n",
              "    <tr>\n",
              "      <th>1</th>\n",
              "      <td>1991</td>\n",
              "      <td>2</td>\n",
              "      <td>732</td>\n",
              "      <td>NaN</td>\n",
              "      <td>17</td>\n",
              "      <td>NaN</td>\n",
              "      <td>175</td>\n",
              "      <td>3421</td>\n",
              "      <td>NaN</td>\n",
              "      <td>NaN</td>\n",
              "      <td>...</td>\n",
              "      <td>NaN</td>\n",
              "      <td>209</td>\n",
              "      <td>NaN</td>\n",
              "      <td>NaN</td>\n",
              "      <td>NaN</td>\n",
              "      <td>749</td>\n",
              "      <td>1395</td>\n",
              "      <td>1097</td>\n",
              "      <td>NaN</td>\n",
              "      <td>3</td>\n",
              "    </tr>\n",
              "    <tr>\n",
              "      <th>2</th>\n",
              "      <td>1991</td>\n",
              "      <td>3</td>\n",
              "      <td>713</td>\n",
              "      <td>NaN</td>\n",
              "      <td>25</td>\n",
              "      <td>NaN</td>\n",
              "      <td>216</td>\n",
              "      <td>3613</td>\n",
              "      <td>NaN</td>\n",
              "      <td>NaN</td>\n",
              "      <td>...</td>\n",
              "      <td>NaN</td>\n",
              "      <td>188</td>\n",
              "      <td>NaN</td>\n",
              "      <td>NaN</td>\n",
              "      <td>NaN</td>\n",
              "      <td>738</td>\n",
              "      <td>1385</td>\n",
              "      <td>1265</td>\n",
              "      <td>NaN</td>\n",
              "      <td>3</td>\n",
              "    </tr>\n",
              "    <tr>\n",
              "      <th>3</th>\n",
              "      <td>1991</td>\n",
              "      <td>4</td>\n",
              "      <td>634</td>\n",
              "      <td>NaN</td>\n",
              "      <td>20</td>\n",
              "      <td>NaN</td>\n",
              "      <td>200</td>\n",
              "      <td>3211</td>\n",
              "      <td>NaN</td>\n",
              "      <td>NaN</td>\n",
              "      <td>...</td>\n",
              "      <td>NaN</td>\n",
              "      <td>140</td>\n",
              "      <td>NaN</td>\n",
              "      <td>NaN</td>\n",
              "      <td>NaN</td>\n",
              "      <td>654</td>\n",
              "      <td>1540</td>\n",
              "      <td>1415</td>\n",
              "      <td>NaN</td>\n",
              "      <td>3</td>\n",
              "    </tr>\n",
              "    <tr>\n",
              "      <th>4</th>\n",
              "      <td>1991</td>\n",
              "      <td>5</td>\n",
              "      <td>650</td>\n",
              "      <td>NaN</td>\n",
              "      <td>20</td>\n",
              "      <td>NaN</td>\n",
              "      <td>146</td>\n",
              "      <td>3051</td>\n",
              "      <td>NaN</td>\n",
              "      <td>NaN</td>\n",
              "      <td>...</td>\n",
              "      <td>NaN</td>\n",
              "      <td>78</td>\n",
              "      <td>NaN</td>\n",
              "      <td>NaN</td>\n",
              "      <td>NaN</td>\n",
              "      <td>670</td>\n",
              "      <td>1266</td>\n",
              "      <td>1449</td>\n",
              "      <td>NaN</td>\n",
              "      <td>3</td>\n",
              "    </tr>\n",
              "  </tbody>\n",
              "</table>\n",
              "<p>5 rows × 56 columns</p>\n",
              "</div>\n",
              "      <button class=\"colab-df-convert\" onclick=\"convertToInteractive('df-5394e5fc-dcdc-46f8-a864-f971b982d4b9')\"\n",
              "              title=\"Convert this dataframe to an interactive table.\"\n",
              "              style=\"display:none;\">\n",
              "        \n",
              "  <svg xmlns=\"http://www.w3.org/2000/svg\" height=\"24px\"viewBox=\"0 0 24 24\"\n",
              "       width=\"24px\">\n",
              "    <path d=\"M0 0h24v24H0V0z\" fill=\"none\"/>\n",
              "    <path d=\"M18.56 5.44l.94 2.06.94-2.06 2.06-.94-2.06-.94-.94-2.06-.94 2.06-2.06.94zm-11 1L8.5 8.5l.94-2.06 2.06-.94-2.06-.94L8.5 2.5l-.94 2.06-2.06.94zm10 10l.94 2.06.94-2.06 2.06-.94-2.06-.94-.94-2.06-.94 2.06-2.06.94z\"/><path d=\"M17.41 7.96l-1.37-1.37c-.4-.4-.92-.59-1.43-.59-.52 0-1.04.2-1.43.59L10.3 9.45l-7.72 7.72c-.78.78-.78 2.05 0 2.83L4 21.41c.39.39.9.59 1.41.59.51 0 1.02-.2 1.41-.59l7.78-7.78 2.81-2.81c.8-.78.8-2.07 0-2.86zM5.41 20L4 18.59l7.72-7.72 1.47 1.35L5.41 20z\"/>\n",
              "  </svg>\n",
              "      </button>\n",
              "      \n",
              "  <style>\n",
              "    .colab-df-container {\n",
              "      display:flex;\n",
              "      flex-wrap:wrap;\n",
              "      gap: 12px;\n",
              "    }\n",
              "\n",
              "    .colab-df-convert {\n",
              "      background-color: #E8F0FE;\n",
              "      border: none;\n",
              "      border-radius: 50%;\n",
              "      cursor: pointer;\n",
              "      display: none;\n",
              "      fill: #1967D2;\n",
              "      height: 32px;\n",
              "      padding: 0 0 0 0;\n",
              "      width: 32px;\n",
              "    }\n",
              "\n",
              "    .colab-df-convert:hover {\n",
              "      background-color: #E2EBFA;\n",
              "      box-shadow: 0px 1px 2px rgba(60, 64, 67, 0.3), 0px 1px 3px 1px rgba(60, 64, 67, 0.15);\n",
              "      fill: #174EA6;\n",
              "    }\n",
              "\n",
              "    [theme=dark] .colab-df-convert {\n",
              "      background-color: #3B4455;\n",
              "      fill: #D2E3FC;\n",
              "    }\n",
              "\n",
              "    [theme=dark] .colab-df-convert:hover {\n",
              "      background-color: #434B5C;\n",
              "      box-shadow: 0px 1px 3px 1px rgba(0, 0, 0, 0.15);\n",
              "      filter: drop-shadow(0px 1px 2px rgba(0, 0, 0, 0.3));\n",
              "      fill: #FFFFFF;\n",
              "    }\n",
              "  </style>\n",
              "\n",
              "      <script>\n",
              "        const buttonEl =\n",
              "          document.querySelector('#df-5394e5fc-dcdc-46f8-a864-f971b982d4b9 button.colab-df-convert');\n",
              "        buttonEl.style.display =\n",
              "          google.colab.kernel.accessAllowed ? 'block' : 'none';\n",
              "\n",
              "        async function convertToInteractive(key) {\n",
              "          const element = document.querySelector('#df-5394e5fc-dcdc-46f8-a864-f971b982d4b9');\n",
              "          const dataTable =\n",
              "            await google.colab.kernel.invokeFunction('convertToInteractive',\n",
              "                                                     [key], {});\n",
              "          if (!dataTable) return;\n",
              "\n",
              "          const docLinkHtml = 'Like what you see? Visit the ' +\n",
              "            '<a target=\"_blank\" href=https://colab.research.google.com/notebooks/data_table.ipynb>data table notebook</a>'\n",
              "            + ' to learn more about interactive tables.';\n",
              "          element.innerHTML = '';\n",
              "          dataTable['output_type'] = 'display_data';\n",
              "          await google.colab.output.renderOutput(dataTable, element);\n",
              "          const docLink = document.createElement('div');\n",
              "          docLink.innerHTML = docLinkHtml;\n",
              "          element.appendChild(docLink);\n",
              "        }\n",
              "      </script>\n",
              "    </div>\n",
              "  </div>\n",
              "  "
            ]
          },
          "metadata": {},
          "execution_count": 32
        }
      ]
    },
    {
      "cell_type": "markdown",
      "source": [
        "### **Valores ausentes (%)**"
      ],
      "metadata": {
        "id": "gV0IY26WEOBv"
      }
    },
    {
      "cell_type": "code",
      "source": [
        "# identificar a porcentagem de valores ausentes das colunas\n",
        "(df.isnull().sum() / df.shape[0]).sort_values(ascending=False)"
      ],
      "metadata": {
        "colab": {
          "base_uri": "https://localhost:8080/"
        },
        "id": "TMxi_2CMESoz",
        "outputId": "5534fbc6-1e0b-4b72-9b26-6f1107103241"
      },
      "execution_count": null,
      "outputs": [
        {
          "output_type": "execute_result",
          "data": {
            "text/plain": [
              "furto_bicicleta               0.802326\n",
              "roubo_bicicleta               0.802326\n",
              "cmba                          0.523256\n",
              "posse_drogas                  0.523256\n",
              "trafico_drogas                0.523256\n",
              "apreensao_drogas_sem_autor    0.523256\n",
              "apf                           0.523256\n",
              "aaapai                        0.523256\n",
              "cmp                           0.523256\n",
              "furto_celular                 0.418605\n",
              "sequestro_relampago           0.418605\n",
              "extorsao                      0.418605\n",
              "furto_coletivo                0.418605\n",
              "roubo_apos_saque              0.418605\n",
              "roubo_conducao_saque          0.418605\n",
              "roubo_cx_eletronico           0.418605\n",
              "estelionato                   0.418605\n",
              "pol_militares_mortos_serv     0.418605\n",
              "pol_civis_mortos_serv         0.418605\n",
              "estupro                       0.418605\n",
              "pessoas_desaparecidas         0.383721\n",
              "encontro_ossada               0.383721\n",
              "roubo_celular                 0.313953\n",
              "registro_ocorrencias          0.279070\n",
              "lesao_corp_morte              0.279070\n",
              "sequestro                     0.279070\n",
              "ameaca                        0.279070\n",
              "lesao_corp_culposa            0.279070\n",
              "hom_culposo                   0.244186\n",
              "hom_por_interv_policial       0.244186\n",
              "indicador_letalidade          0.000000\n",
              "indicador_roubo_rua           0.000000\n",
              "indicador_roubo_veic          0.000000\n",
              "encontro_cadaver              0.000000\n",
              "apreensao_drogas              0.000000\n",
              "recuperacao_veiculos          0.000000\n",
              "vano                          0.000000\n",
              "total_furtos                  0.000000\n",
              "roubo_carga                   0.000000\n",
              "hom_doloso                    0.000000\n",
              "latrocinio                    0.000000\n",
              "tentat_hom                    0.000000\n",
              "lesao_corp_dolosa             0.000000\n",
              "roubo_comercio                0.000000\n",
              "roubo_residencia              0.000000\n",
              "roubo_veiculo                 0.000000\n",
              "roubo_transeunte              0.000000\n",
              "outros_furtos                 0.000000\n",
              "roubo_em_coletivo             0.000000\n",
              "roubo_banco                   0.000000\n",
              "outros_roubos                 0.000000\n",
              "total_roubos                  0.000000\n",
              "furto_veiculos                0.000000\n",
              "furto_transeunte              0.000000\n",
              "mes                           0.000000\n",
              "fase                          0.000000\n",
              "dtype: float64"
            ]
          },
          "metadata": {},
          "execution_count": 33
        }
      ]
    },
    {
      "cell_type": "markdown",
      "metadata": {
        "id": "G6dnsNYm-41g"
      },
      "source": [
        "## **Informações Estatísticas da Violência no Rio de Janeiro**\n",
        "\n",
        "A violência no Rio de Janeiro é um desafio presente, com índices expressivos de roubo e furto de veículos. No entanto, um aspecto encorajador é a taxa de recuperação de carros, que oferece uma interessante análise em relação aos veículos roubados e furtados.\n",
        "\n",
        "Descreva e execute as seguintes etapas:\n",
        "\n",
        "* Imprima o resumo estatístico do seu DataFrame (`describe`)\n",
        "* Encontre as médias das seguintes variáveis (colunas):\n",
        "  * `roubo_veiculo`\n",
        "  * `furto_veiculos`\n",
        "  * `recuperacao_veiculos`\n",
        "* Calcule qual a porcentagem de carros recuperados em relação aos carros roubados + carros furtados:\n",
        "  * $\\frac{\\text{recuperacao_veiculos}}{\\text{roubo_veiculo} + \\text{furto_veiculos}}$\n",
        "* Encontre os valores máximos (`max`) e mínimos (`min`) da coluna `hom_doloso`\n"
      ]
    },
    {
      "cell_type": "markdown",
      "source": [
        "### **Resumo estatístico do DataFrame**"
      ],
      "metadata": {
        "id": "Q-hPIXnGIU3J"
      }
    },
    {
      "cell_type": "code",
      "source": [
        "# imprime o resumo estatístico das variáveis numéricas\n",
        "df.describe()"
      ],
      "metadata": {
        "colab": {
          "base_uri": "https://localhost:8080/",
          "height": 393
        },
        "id": "4E9LnCbIIajj",
        "outputId": "b3328bd2-e812-4b7f-ecd8-806f4cfb6d18"
      },
      "execution_count": null,
      "outputs": [
        {
          "output_type": "execute_result",
          "data": {
            "text/plain": [
              "              vano         mes  hom_doloso  lesao_corp_morte  latrocinio  \\\n",
              "count   344.000000  344.000000  344.000000        248.000000  344.000000   \n",
              "mean   2004.837209    6.453488  504.555233          4.334677   15.668605   \n",
              "std       8.289036    3.447759  113.774481          2.755357    5.861427   \n",
              "min    1991.000000    1.000000  272.000000          0.000000    2.000000   \n",
              "25%    1998.000000    3.000000  413.750000          2.000000   11.000000   \n",
              "50%    2005.000000    6.000000  507.000000          4.000000   15.000000   \n",
              "75%    2012.000000    9.000000  577.250000          6.000000   19.000000   \n",
              "max    2019.000000   12.000000  831.000000         21.000000   36.000000   \n",
              "\n",
              "       hom_por_interv_policial  tentat_hom  lesao_corp_dolosa     estupro  \\\n",
              "count                260.00000  344.000000         344.000000  200.000000   \n",
              "mean                  71.90000  318.267442        5492.799419  369.945000   \n",
              "std                   36.48882  127.606645        1514.220579   94.392434   \n",
              "min                   10.00000  122.000000        2350.000000  188.000000   \n",
              "25%                   41.75000  200.000000        4067.000000  282.000000   \n",
              "50%                   70.00000  318.500000        5830.500000  384.000000   \n",
              "75%                   96.25000  398.250000        6582.500000  441.250000   \n",
              "max                  194.00000  645.000000        9050.000000  561.000000   \n",
              "\n",
              "       hom_culposo  ...  pessoas_desaparecidas  encontro_cadaver  \\\n",
              "count   260.000000  ...             212.000000        344.000000   \n",
              "mean    212.119231  ...             435.132075         66.261628   \n",
              "std      54.234700  ...              65.353516         34.464519   \n",
              "min     111.000000  ...             236.000000          0.000000   \n",
              "25%     176.000000  ...             390.000000         42.000000   \n",
              "50%     203.000000  ...             427.000000         60.500000   \n",
              "75%     236.250000  ...             481.500000         87.000000   \n",
              "max     449.000000  ...             628.000000        217.000000   \n",
              "\n",
              "       encontro_ossada  pol_militares_mortos_serv  pol_civis_mortos_serv  \\\n",
              "count       212.000000                 200.000000              200.00000   \n",
              "mean          3.301887                   2.085000                0.34000   \n",
              "std           2.192922                   1.761616                0.63752   \n",
              "min           0.000000                   0.000000                0.00000   \n",
              "25%           2.000000                   1.000000                0.00000   \n",
              "50%           3.000000                   2.000000                0.00000   \n",
              "75%           4.000000                   3.000000                1.00000   \n",
              "max          13.000000                  10.000000                3.00000   \n",
              "\n",
              "       indicador_letalidade  indicador_roubo_rua  indicador_roubo_veic  \\\n",
              "count            344.000000           344.000000            344.000000   \n",
              "mean             577.691860          4734.738372           2448.697674   \n",
              "std              104.973929          3204.054864            789.689559   \n",
              "min              334.000000          1086.000000           1097.000000   \n",
              "25%              500.000000          1557.000000           1889.750000   \n",
              "50%              590.000000          4190.000000           2322.000000   \n",
              "75%              649.000000          6872.750000           2778.000000   \n",
              "max              848.000000         13833.000000           5358.000000   \n",
              "\n",
              "       registro_ocorrencias        fase  \n",
              "count            248.000000  344.000000  \n",
              "mean           53794.161290    2.994186  \n",
              "std            11039.051992    0.076138  \n",
              "min            30621.000000    2.000000  \n",
              "25%            45374.500000    3.000000  \n",
              "50%            54926.500000    3.000000  \n",
              "75%            63292.500000    3.000000  \n",
              "max            75403.000000    3.000000  \n",
              "\n",
              "[8 rows x 56 columns]"
            ],
            "text/html": [
              "\n",
              "  <div id=\"df-955d57e6-d8a0-4eca-8ab7-c72be5e93040\">\n",
              "    <div class=\"colab-df-container\">\n",
              "      <div>\n",
              "<style scoped>\n",
              "    .dataframe tbody tr th:only-of-type {\n",
              "        vertical-align: middle;\n",
              "    }\n",
              "\n",
              "    .dataframe tbody tr th {\n",
              "        vertical-align: top;\n",
              "    }\n",
              "\n",
              "    .dataframe thead th {\n",
              "        text-align: right;\n",
              "    }\n",
              "</style>\n",
              "<table border=\"1\" class=\"dataframe\">\n",
              "  <thead>\n",
              "    <tr style=\"text-align: right;\">\n",
              "      <th></th>\n",
              "      <th>vano</th>\n",
              "      <th>mes</th>\n",
              "      <th>hom_doloso</th>\n",
              "      <th>lesao_corp_morte</th>\n",
              "      <th>latrocinio</th>\n",
              "      <th>hom_por_interv_policial</th>\n",
              "      <th>tentat_hom</th>\n",
              "      <th>lesao_corp_dolosa</th>\n",
              "      <th>estupro</th>\n",
              "      <th>hom_culposo</th>\n",
              "      <th>...</th>\n",
              "      <th>pessoas_desaparecidas</th>\n",
              "      <th>encontro_cadaver</th>\n",
              "      <th>encontro_ossada</th>\n",
              "      <th>pol_militares_mortos_serv</th>\n",
              "      <th>pol_civis_mortos_serv</th>\n",
              "      <th>indicador_letalidade</th>\n",
              "      <th>indicador_roubo_rua</th>\n",
              "      <th>indicador_roubo_veic</th>\n",
              "      <th>registro_ocorrencias</th>\n",
              "      <th>fase</th>\n",
              "    </tr>\n",
              "  </thead>\n",
              "  <tbody>\n",
              "    <tr>\n",
              "      <th>count</th>\n",
              "      <td>344.000000</td>\n",
              "      <td>344.000000</td>\n",
              "      <td>344.000000</td>\n",
              "      <td>248.000000</td>\n",
              "      <td>344.000000</td>\n",
              "      <td>260.00000</td>\n",
              "      <td>344.000000</td>\n",
              "      <td>344.000000</td>\n",
              "      <td>200.000000</td>\n",
              "      <td>260.000000</td>\n",
              "      <td>...</td>\n",
              "      <td>212.000000</td>\n",
              "      <td>344.000000</td>\n",
              "      <td>212.000000</td>\n",
              "      <td>200.000000</td>\n",
              "      <td>200.00000</td>\n",
              "      <td>344.000000</td>\n",
              "      <td>344.000000</td>\n",
              "      <td>344.000000</td>\n",
              "      <td>248.000000</td>\n",
              "      <td>344.000000</td>\n",
              "    </tr>\n",
              "    <tr>\n",
              "      <th>mean</th>\n",
              "      <td>2004.837209</td>\n",
              "      <td>6.453488</td>\n",
              "      <td>504.555233</td>\n",
              "      <td>4.334677</td>\n",
              "      <td>15.668605</td>\n",
              "      <td>71.90000</td>\n",
              "      <td>318.267442</td>\n",
              "      <td>5492.799419</td>\n",
              "      <td>369.945000</td>\n",
              "      <td>212.119231</td>\n",
              "      <td>...</td>\n",
              "      <td>435.132075</td>\n",
              "      <td>66.261628</td>\n",
              "      <td>3.301887</td>\n",
              "      <td>2.085000</td>\n",
              "      <td>0.34000</td>\n",
              "      <td>577.691860</td>\n",
              "      <td>4734.738372</td>\n",
              "      <td>2448.697674</td>\n",
              "      <td>53794.161290</td>\n",
              "      <td>2.994186</td>\n",
              "    </tr>\n",
              "    <tr>\n",
              "      <th>std</th>\n",
              "      <td>8.289036</td>\n",
              "      <td>3.447759</td>\n",
              "      <td>113.774481</td>\n",
              "      <td>2.755357</td>\n",
              "      <td>5.861427</td>\n",
              "      <td>36.48882</td>\n",
              "      <td>127.606645</td>\n",
              "      <td>1514.220579</td>\n",
              "      <td>94.392434</td>\n",
              "      <td>54.234700</td>\n",
              "      <td>...</td>\n",
              "      <td>65.353516</td>\n",
              "      <td>34.464519</td>\n",
              "      <td>2.192922</td>\n",
              "      <td>1.761616</td>\n",
              "      <td>0.63752</td>\n",
              "      <td>104.973929</td>\n",
              "      <td>3204.054864</td>\n",
              "      <td>789.689559</td>\n",
              "      <td>11039.051992</td>\n",
              "      <td>0.076138</td>\n",
              "    </tr>\n",
              "    <tr>\n",
              "      <th>min</th>\n",
              "      <td>1991.000000</td>\n",
              "      <td>1.000000</td>\n",
              "      <td>272.000000</td>\n",
              "      <td>0.000000</td>\n",
              "      <td>2.000000</td>\n",
              "      <td>10.00000</td>\n",
              "      <td>122.000000</td>\n",
              "      <td>2350.000000</td>\n",
              "      <td>188.000000</td>\n",
              "      <td>111.000000</td>\n",
              "      <td>...</td>\n",
              "      <td>236.000000</td>\n",
              "      <td>0.000000</td>\n",
              "      <td>0.000000</td>\n",
              "      <td>0.000000</td>\n",
              "      <td>0.00000</td>\n",
              "      <td>334.000000</td>\n",
              "      <td>1086.000000</td>\n",
              "      <td>1097.000000</td>\n",
              "      <td>30621.000000</td>\n",
              "      <td>2.000000</td>\n",
              "    </tr>\n",
              "    <tr>\n",
              "      <th>25%</th>\n",
              "      <td>1998.000000</td>\n",
              "      <td>3.000000</td>\n",
              "      <td>413.750000</td>\n",
              "      <td>2.000000</td>\n",
              "      <td>11.000000</td>\n",
              "      <td>41.75000</td>\n",
              "      <td>200.000000</td>\n",
              "      <td>4067.000000</td>\n",
              "      <td>282.000000</td>\n",
              "      <td>176.000000</td>\n",
              "      <td>...</td>\n",
              "      <td>390.000000</td>\n",
              "      <td>42.000000</td>\n",
              "      <td>2.000000</td>\n",
              "      <td>1.000000</td>\n",
              "      <td>0.00000</td>\n",
              "      <td>500.000000</td>\n",
              "      <td>1557.000000</td>\n",
              "      <td>1889.750000</td>\n",
              "      <td>45374.500000</td>\n",
              "      <td>3.000000</td>\n",
              "    </tr>\n",
              "    <tr>\n",
              "      <th>50%</th>\n",
              "      <td>2005.000000</td>\n",
              "      <td>6.000000</td>\n",
              "      <td>507.000000</td>\n",
              "      <td>4.000000</td>\n",
              "      <td>15.000000</td>\n",
              "      <td>70.00000</td>\n",
              "      <td>318.500000</td>\n",
              "      <td>5830.500000</td>\n",
              "      <td>384.000000</td>\n",
              "      <td>203.000000</td>\n",
              "      <td>...</td>\n",
              "      <td>427.000000</td>\n",
              "      <td>60.500000</td>\n",
              "      <td>3.000000</td>\n",
              "      <td>2.000000</td>\n",
              "      <td>0.00000</td>\n",
              "      <td>590.000000</td>\n",
              "      <td>4190.000000</td>\n",
              "      <td>2322.000000</td>\n",
              "      <td>54926.500000</td>\n",
              "      <td>3.000000</td>\n",
              "    </tr>\n",
              "    <tr>\n",
              "      <th>75%</th>\n",
              "      <td>2012.000000</td>\n",
              "      <td>9.000000</td>\n",
              "      <td>577.250000</td>\n",
              "      <td>6.000000</td>\n",
              "      <td>19.000000</td>\n",
              "      <td>96.25000</td>\n",
              "      <td>398.250000</td>\n",
              "      <td>6582.500000</td>\n",
              "      <td>441.250000</td>\n",
              "      <td>236.250000</td>\n",
              "      <td>...</td>\n",
              "      <td>481.500000</td>\n",
              "      <td>87.000000</td>\n",
              "      <td>4.000000</td>\n",
              "      <td>3.000000</td>\n",
              "      <td>1.00000</td>\n",
              "      <td>649.000000</td>\n",
              "      <td>6872.750000</td>\n",
              "      <td>2778.000000</td>\n",
              "      <td>63292.500000</td>\n",
              "      <td>3.000000</td>\n",
              "    </tr>\n",
              "    <tr>\n",
              "      <th>max</th>\n",
              "      <td>2019.000000</td>\n",
              "      <td>12.000000</td>\n",
              "      <td>831.000000</td>\n",
              "      <td>21.000000</td>\n",
              "      <td>36.000000</td>\n",
              "      <td>194.00000</td>\n",
              "      <td>645.000000</td>\n",
              "      <td>9050.000000</td>\n",
              "      <td>561.000000</td>\n",
              "      <td>449.000000</td>\n",
              "      <td>...</td>\n",
              "      <td>628.000000</td>\n",
              "      <td>217.000000</td>\n",
              "      <td>13.000000</td>\n",
              "      <td>10.000000</td>\n",
              "      <td>3.00000</td>\n",
              "      <td>848.000000</td>\n",
              "      <td>13833.000000</td>\n",
              "      <td>5358.000000</td>\n",
              "      <td>75403.000000</td>\n",
              "      <td>3.000000</td>\n",
              "    </tr>\n",
              "  </tbody>\n",
              "</table>\n",
              "<p>8 rows × 56 columns</p>\n",
              "</div>\n",
              "      <button class=\"colab-df-convert\" onclick=\"convertToInteractive('df-955d57e6-d8a0-4eca-8ab7-c72be5e93040')\"\n",
              "              title=\"Convert this dataframe to an interactive table.\"\n",
              "              style=\"display:none;\">\n",
              "        \n",
              "  <svg xmlns=\"http://www.w3.org/2000/svg\" height=\"24px\"viewBox=\"0 0 24 24\"\n",
              "       width=\"24px\">\n",
              "    <path d=\"M0 0h24v24H0V0z\" fill=\"none\"/>\n",
              "    <path d=\"M18.56 5.44l.94 2.06.94-2.06 2.06-.94-2.06-.94-.94-2.06-.94 2.06-2.06.94zm-11 1L8.5 8.5l.94-2.06 2.06-.94-2.06-.94L8.5 2.5l-.94 2.06-2.06.94zm10 10l.94 2.06.94-2.06 2.06-.94-2.06-.94-.94-2.06-.94 2.06-2.06.94z\"/><path d=\"M17.41 7.96l-1.37-1.37c-.4-.4-.92-.59-1.43-.59-.52 0-1.04.2-1.43.59L10.3 9.45l-7.72 7.72c-.78.78-.78 2.05 0 2.83L4 21.41c.39.39.9.59 1.41.59.51 0 1.02-.2 1.41-.59l7.78-7.78 2.81-2.81c.8-.78.8-2.07 0-2.86zM5.41 20L4 18.59l7.72-7.72 1.47 1.35L5.41 20z\"/>\n",
              "  </svg>\n",
              "      </button>\n",
              "      \n",
              "  <style>\n",
              "    .colab-df-container {\n",
              "      display:flex;\n",
              "      flex-wrap:wrap;\n",
              "      gap: 12px;\n",
              "    }\n",
              "\n",
              "    .colab-df-convert {\n",
              "      background-color: #E8F0FE;\n",
              "      border: none;\n",
              "      border-radius: 50%;\n",
              "      cursor: pointer;\n",
              "      display: none;\n",
              "      fill: #1967D2;\n",
              "      height: 32px;\n",
              "      padding: 0 0 0 0;\n",
              "      width: 32px;\n",
              "    }\n",
              "\n",
              "    .colab-df-convert:hover {\n",
              "      background-color: #E2EBFA;\n",
              "      box-shadow: 0px 1px 2px rgba(60, 64, 67, 0.3), 0px 1px 3px 1px rgba(60, 64, 67, 0.15);\n",
              "      fill: #174EA6;\n",
              "    }\n",
              "\n",
              "    [theme=dark] .colab-df-convert {\n",
              "      background-color: #3B4455;\n",
              "      fill: #D2E3FC;\n",
              "    }\n",
              "\n",
              "    [theme=dark] .colab-df-convert:hover {\n",
              "      background-color: #434B5C;\n",
              "      box-shadow: 0px 1px 3px 1px rgba(0, 0, 0, 0.15);\n",
              "      filter: drop-shadow(0px 1px 2px rgba(0, 0, 0, 0.3));\n",
              "      fill: #FFFFFF;\n",
              "    }\n",
              "  </style>\n",
              "\n",
              "      <script>\n",
              "        const buttonEl =\n",
              "          document.querySelector('#df-955d57e6-d8a0-4eca-8ab7-c72be5e93040 button.colab-df-convert');\n",
              "        buttonEl.style.display =\n",
              "          google.colab.kernel.accessAllowed ? 'block' : 'none';\n",
              "\n",
              "        async function convertToInteractive(key) {\n",
              "          const element = document.querySelector('#df-955d57e6-d8a0-4eca-8ab7-c72be5e93040');\n",
              "          const dataTable =\n",
              "            await google.colab.kernel.invokeFunction('convertToInteractive',\n",
              "                                                     [key], {});\n",
              "          if (!dataTable) return;\n",
              "\n",
              "          const docLinkHtml = 'Like what you see? Visit the ' +\n",
              "            '<a target=\"_blank\" href=https://colab.research.google.com/notebooks/data_table.ipynb>data table notebook</a>'\n",
              "            + ' to learn more about interactive tables.';\n",
              "          element.innerHTML = '';\n",
              "          dataTable['output_type'] = 'display_data';\n",
              "          await google.colab.output.renderOutput(dataTable, element);\n",
              "          const docLink = document.createElement('div');\n",
              "          docLink.innerHTML = docLinkHtml;\n",
              "          element.appendChild(docLink);\n",
              "        }\n",
              "      </script>\n",
              "    </div>\n",
              "  </div>\n",
              "  "
            ]
          },
          "metadata": {},
          "execution_count": 35
        }
      ]
    },
    {
      "cell_type": "markdown",
      "source": [
        "### **Médias**\n",
        "\n",
        "Médias geradas das seguintes varáveis:\n",
        "* `roubo_veiculo`\n",
        "* `furto_veiculos`\n",
        "* `recuperacao_veiculos`"
      ],
      "metadata": {
        "id": "QzXViFUcI2Bp"
      }
    },
    {
      "cell_type": "markdown",
      "source": [
        "### **Porcentagem de carros recuperados em relação aos carros roubados + carros furtados**\n",
        "\n",
        "* $\\frac{\\text{recuperacao_veiculos}}{\\text{roubo_veiculo} + \\text{furto_veiculos}}$"
      ],
      "metadata": {
        "id": "etxHUnBcJfzE"
      }
    },
    {
      "cell_type": "code",
      "source": [
        "# ver a porcentagem de carros recuperados em relação aos carros roubados + carros furtados\n",
        "(df['recuperacao_veiculos'].sum() / (df['roubo_veiculo'].sum() + df['furto_veiculos'].sum())) * 100\n",
        "\n",
        "# outra forma simplificada de encontrar a relação seria a partir da fórmula --> mean_recuperacao_veiculos / (mean_furto_veiculos + mean_roubo_veiculo)"
      ],
      "metadata": {
        "colab": {
          "base_uri": "https://localhost:8080/"
        },
        "id": "oWnoYIQNKDyT",
        "outputId": "a9b142cd-f6dc-409d-bf10-f50f94caff61"
      },
      "execution_count": null,
      "outputs": [
        {
          "output_type": "execute_result",
          "data": {
            "text/plain": [
              "42.980346705075085"
            ]
          },
          "metadata": {},
          "execution_count": 56
        }
      ]
    },
    {
      "cell_type": "markdown",
      "metadata": {
        "id": "7WK0NBQZASKC"
      },
      "source": [
        "## **Visualização de Dados**\n",
        "\n",
        "Podemos plotar alguns dados para uma melhor visualização de outras variáveis, como `hom_doloso` e `roubo_em_coletivo`.\n",
        "\n",
        "Plote e comente os seguintes gráficos:\n",
        "\n",
        "* Histograma de `hom_doloso`\n",
        "* Gráfico de linhas para a variável `roubo_em_coletivo`\n"
      ]
    },
    {
      "cell_type": "markdown",
      "source": [
        "### **Histograma**\n",
        "\n",
        "* `hom_doloso`"
      ],
      "metadata": {
        "id": "AZC6wb1aPhED"
      }
    },
    {
      "cell_type": "code",
      "source": [
        "# plotar histograma de hom_doloso\n",
        "df.hom_doloso.hist();"
      ],
      "metadata": {
        "colab": {
          "base_uri": "https://localhost:8080/",
          "height": 430
        },
        "id": "liH01dEuPm-7",
        "outputId": "7249fa82-0a5f-46e8-862d-09c318f8355a"
      },
      "execution_count": null,
      "outputs": [
        {
          "output_type": "display_data",
          "data": {
            "text/plain": [
              "<Figure size 640x480 with 1 Axes>"
            ],
            "image/png": "[encoded data removed]"
          },
          "metadata": {}
        }
      ]
    },
    {
      "cell_type": "markdown",
      "source": [
        "### **Gráfico de linhas**\n",
        "\n",
        "* `roubo_em_coletivo`"
      ],
      "metadata": {
        "id": "znphu0x3PuOM"
      }
    },
    {
      "cell_type": "code",
      "source": [
        "# plotar gráfico de linhas para roubo_em_coletivo\n",
        "df.roubo_em_coletivo.plot();"
      ],
      "metadata": {
        "colab": {
          "base_uri": "https://localhost:8080/",
          "height": 430
        },
        "id": "sThum9cSP4wz",
        "outputId": "e3b7d7b6-c33f-4428-8d45-0d5cf2af391f"
      },
      "execution_count": null,
      "outputs": [
        {
          "output_type": "display_data",
          "data": {
            "text/plain": [
              "<Figure size 640x480 with 1 Axes>"
            ],
            "image/png": "[encoded data removed]"
          },
          "metadata": {}
        }
      ]
    },
    {
      "cell_type": "markdown",
      "metadata": {
        "id": "LCsiXvM3BcsO"
      },
      "source": [
        "## **Conclusão**\n",
        "\n",
        "Com base na análise dos dados de violência no Rio de Janeiro disponibilizados pelo Instituto de Segurança Pública, algumas conclusões podem ser tiradas:"
      ]
    },
    {
      "cell_type": "markdown",
      "source": [
        "### **Tendências temporais**\n",
        "\n",
        "Ao analisar as variações ao longo de vinte anos, foi observado um padrão sazonal na ocorrência de crimes, com maiores índices durante os meses de Janeiro e Março. Isso sugere a influência de fatores sazonais ou eventos específicos, no aumento da violência, como o período de férias em Janeiro e o Carnaval em Março."
      ],
      "metadata": {
        "id": "oO6EjkyYcqpD"
      }
    },
    {
      "cell_type": "markdown",
      "source": [
        "### **Localização geográfica**\n",
        "\n",
        "A análise geoespacial, baseada na [Divisão Territorial do ISP](https://www.ispdados.rj.gov.br/divisaoTerritorial.html) revelou áreas específicas do Rio de Janeiro com maior incidência de Registros de Ocorrências, durante o ano corrente de 2023.\n",
        "* Decrescentemente, essas áreas são:\n",
        "\n",
        "| Área | Registros de Ocorrências (Janeiro a Maio - 2023) |\n",
        "|------|-------------------------|\n",
        "| 1ª RISP Capital (Zona Sul, Centro e parte da Norte) | <center>88.845|\n",
        "| 2ª RISP Capital (Zona Oeste e parte da Norte) | <center>81.996 |\n",
        "| 3ª RISP Baixada Fluminense | <center>58.605 |\n",
        "| 4ª RISP Grande Niterói e Região dos Lagos | <center>47.345 |\n",
        "| 6ª RISP Norte Fluminense e Noroeste | <center>25.074 |\n",
        "| 5ª RISP Sul Fluminense | <center>22.011 |\n",
        "| 7ª RISP Região Serrana | <center>16.921 |"
      ],
      "metadata": {
        "id": "Xg6Zm-kFftcK"
      }
    },
    {
      "cell_type": "markdown",
      "source": [
        "Essas conclusões são baseadas em uma análise geral dos dados. Para insights e conclusões mais completas e precisas, teríamos que obter acesso à um banco de dados mais complexo, podendo então considerar outras variáveis relevantes e aplicar técnicas estatísticas mais avançadas."
      ],
      "metadata": {
        "id": "OmFPf4YD1k0T"
      }
    }
  ]
}